{
 "cells": [
  {
   "cell_type": "markdown",
   "metadata": {},
   "source": [
    "### Importing and preaparing dataset"
   ]
  },
  {
   "cell_type": "code",
   "execution_count": 3,
   "metadata": {},
   "outputs": [],
   "source": [
    "import pandas as pd\n",
    "dataset = pd.read_csv('odi.csv')\n",
    "X = dataset.iloc[:,[7,8,9,12,13]].values\n",
    "y = dataset.iloc[:, 14].values"
   ]
  },
  {
   "cell_type": "code",
   "execution_count": 4,
   "metadata": {},
   "outputs": [
    {
     "data": {
      "text/html": [
       "<div>\n",
       "<style scoped>\n",
       "    .dataframe tbody tr th:only-of-type {\n",
       "        vertical-align: middle;\n",
       "    }\n",
       "\n",
       "    .dataframe tbody tr th {\n",
       "        vertical-align: top;\n",
       "    }\n",
       "\n",
       "    .dataframe thead th {\n",
       "        text-align: right;\n",
       "    }\n",
       "</style>\n",
       "<table border=\"1\" class=\"dataframe\">\n",
       "  <thead>\n",
       "    <tr style=\"text-align: right;\">\n",
       "      <th></th>\n",
       "      <th>mid</th>\n",
       "      <th>date</th>\n",
       "      <th>venue</th>\n",
       "      <th>bat_team</th>\n",
       "      <th>bowl_team</th>\n",
       "      <th>batsman</th>\n",
       "      <th>bowler</th>\n",
       "      <th>runs</th>\n",
       "      <th>wickets</th>\n",
       "      <th>overs</th>\n",
       "      <th>runs_last_5</th>\n",
       "      <th>wickets_last_5</th>\n",
       "      <th>striker</th>\n",
       "      <th>non-striker</th>\n",
       "      <th>total</th>\n",
       "    </tr>\n",
       "  </thead>\n",
       "  <tbody>\n",
       "    <tr>\n",
       "      <th>0</th>\n",
       "      <td>1</td>\n",
       "      <td>13-06-2006</td>\n",
       "      <td>Civil Service Cricket Club, Stormont</td>\n",
       "      <td>England</td>\n",
       "      <td>Ireland</td>\n",
       "      <td>ME Trescothick</td>\n",
       "      <td>DT Johnston</td>\n",
       "      <td>0</td>\n",
       "      <td>0</td>\n",
       "      <td>0.1</td>\n",
       "      <td>0</td>\n",
       "      <td>0</td>\n",
       "      <td>0</td>\n",
       "      <td>0</td>\n",
       "      <td>301</td>\n",
       "    </tr>\n",
       "    <tr>\n",
       "      <th>1</th>\n",
       "      <td>1</td>\n",
       "      <td>13-06-2006</td>\n",
       "      <td>Civil Service Cricket Club, Stormont</td>\n",
       "      <td>England</td>\n",
       "      <td>Ireland</td>\n",
       "      <td>ME Trescothick</td>\n",
       "      <td>DT Johnston</td>\n",
       "      <td>0</td>\n",
       "      <td>0</td>\n",
       "      <td>0.2</td>\n",
       "      <td>0</td>\n",
       "      <td>0</td>\n",
       "      <td>0</td>\n",
       "      <td>0</td>\n",
       "      <td>301</td>\n",
       "    </tr>\n",
       "    <tr>\n",
       "      <th>2</th>\n",
       "      <td>1</td>\n",
       "      <td>13-06-2006</td>\n",
       "      <td>Civil Service Cricket Club, Stormont</td>\n",
       "      <td>England</td>\n",
       "      <td>Ireland</td>\n",
       "      <td>ME Trescothick</td>\n",
       "      <td>DT Johnston</td>\n",
       "      <td>4</td>\n",
       "      <td>0</td>\n",
       "      <td>0.3</td>\n",
       "      <td>4</td>\n",
       "      <td>0</td>\n",
       "      <td>0</td>\n",
       "      <td>0</td>\n",
       "      <td>301</td>\n",
       "    </tr>\n",
       "    <tr>\n",
       "      <th>3</th>\n",
       "      <td>1</td>\n",
       "      <td>13-06-2006</td>\n",
       "      <td>Civil Service Cricket Club, Stormont</td>\n",
       "      <td>England</td>\n",
       "      <td>Ireland</td>\n",
       "      <td>ME Trescothick</td>\n",
       "      <td>DT Johnston</td>\n",
       "      <td>6</td>\n",
       "      <td>0</td>\n",
       "      <td>0.4</td>\n",
       "      <td>6</td>\n",
       "      <td>0</td>\n",
       "      <td>0</td>\n",
       "      <td>0</td>\n",
       "      <td>301</td>\n",
       "    </tr>\n",
       "    <tr>\n",
       "      <th>4</th>\n",
       "      <td>1</td>\n",
       "      <td>13-06-2006</td>\n",
       "      <td>Civil Service Cricket Club, Stormont</td>\n",
       "      <td>England</td>\n",
       "      <td>Ireland</td>\n",
       "      <td>ME Trescothick</td>\n",
       "      <td>DT Johnston</td>\n",
       "      <td>6</td>\n",
       "      <td>0</td>\n",
       "      <td>0.5</td>\n",
       "      <td>6</td>\n",
       "      <td>0</td>\n",
       "      <td>0</td>\n",
       "      <td>0</td>\n",
       "      <td>301</td>\n",
       "    </tr>\n",
       "    <tr>\n",
       "      <th>...</th>\n",
       "      <td>...</td>\n",
       "      <td>...</td>\n",
       "      <td>...</td>\n",
       "      <td>...</td>\n",
       "      <td>...</td>\n",
       "      <td>...</td>\n",
       "      <td>...</td>\n",
       "      <td>...</td>\n",
       "      <td>...</td>\n",
       "      <td>...</td>\n",
       "      <td>...</td>\n",
       "      <td>...</td>\n",
       "      <td>...</td>\n",
       "      <td>...</td>\n",
       "      <td>...</td>\n",
       "    </tr>\n",
       "    <tr>\n",
       "      <th>83302</th>\n",
       "      <td>281</td>\n",
       "      <td>25-06-2008</td>\n",
       "      <td>National Stadium</td>\n",
       "      <td>India</td>\n",
       "      <td>Hong Kong</td>\n",
       "      <td>V Sehwag</td>\n",
       "      <td>Najeeb Amar</td>\n",
       "      <td>127</td>\n",
       "      <td>1</td>\n",
       "      <td>14.3</td>\n",
       "      <td>36</td>\n",
       "      <td>1</td>\n",
       "      <td>78</td>\n",
       "      <td>45</td>\n",
       "      <td>374</td>\n",
       "    </tr>\n",
       "    <tr>\n",
       "      <th>83303</th>\n",
       "      <td>281</td>\n",
       "      <td>25-06-2008</td>\n",
       "      <td>National Stadium</td>\n",
       "      <td>India</td>\n",
       "      <td>Hong Kong</td>\n",
       "      <td>RG Sharma</td>\n",
       "      <td>Najeeb Amar</td>\n",
       "      <td>127</td>\n",
       "      <td>1</td>\n",
       "      <td>14.4</td>\n",
       "      <td>32</td>\n",
       "      <td>1</td>\n",
       "      <td>45</td>\n",
       "      <td>0</td>\n",
       "      <td>374</td>\n",
       "    </tr>\n",
       "    <tr>\n",
       "      <th>83304</th>\n",
       "      <td>281</td>\n",
       "      <td>25-06-2008</td>\n",
       "      <td>National Stadium</td>\n",
       "      <td>India</td>\n",
       "      <td>Hong Kong</td>\n",
       "      <td>RG Sharma</td>\n",
       "      <td>Najeeb Amar</td>\n",
       "      <td>127</td>\n",
       "      <td>1</td>\n",
       "      <td>14.5</td>\n",
       "      <td>32</td>\n",
       "      <td>1</td>\n",
       "      <td>45</td>\n",
       "      <td>0</td>\n",
       "      <td>374</td>\n",
       "    </tr>\n",
       "    <tr>\n",
       "      <th>83305</th>\n",
       "      <td>281</td>\n",
       "      <td>25-06-2008</td>\n",
       "      <td>National Stadium</td>\n",
       "      <td>India</td>\n",
       "      <td>Hong Kong</td>\n",
       "      <td>RG Sharma</td>\n",
       "      <td>Najeeb Amar</td>\n",
       "      <td>127</td>\n",
       "      <td>1</td>\n",
       "      <td>14.6</td>\n",
       "      <td>32</td>\n",
       "      <td>1</td>\n",
       "      <td>45</td>\n",
       "      <td>0</td>\n",
       "      <td>374</td>\n",
       "    </tr>\n",
       "    <tr>\n",
       "      <th>83306</th>\n",
       "      <td>281</td>\n",
       "      <td>25-06-2008</td>\n",
       "      <td>National Stadium</td>\n",
       "      <td>India</td>\n",
       "      <td>Hong Kong</td>\n",
       "      <td>G Gambhir</td>\n",
       "      <td>Nadeem Ahmed</td>\n",
       "      <td>127</td>\n",
       "      <td>1</td>\n",
       "      <td>15.1</td>\n",
       "      <td>31</td>\n",
       "      <td>1</td>\n",
       "      <td>45</td>\n",
       "      <td>0</td>\n",
       "      <td>374</td>\n",
       "    </tr>\n",
       "  </tbody>\n",
       "</table>\n",
       "<p>83307 rows × 15 columns</p>\n",
       "</div>"
      ],
      "text/plain": [
       "       mid        date                                 venue bat_team  \\\n",
       "0        1  13-06-2006  Civil Service Cricket Club, Stormont  England   \n",
       "1        1  13-06-2006  Civil Service Cricket Club, Stormont  England   \n",
       "2        1  13-06-2006  Civil Service Cricket Club, Stormont  England   \n",
       "3        1  13-06-2006  Civil Service Cricket Club, Stormont  England   \n",
       "4        1  13-06-2006  Civil Service Cricket Club, Stormont  England   \n",
       "...    ...         ...                                   ...      ...   \n",
       "83302  281  25-06-2008                      National Stadium    India   \n",
       "83303  281  25-06-2008                      National Stadium    India   \n",
       "83304  281  25-06-2008                      National Stadium    India   \n",
       "83305  281  25-06-2008                      National Stadium    India   \n",
       "83306  281  25-06-2008                      National Stadium    India   \n",
       "\n",
       "       bowl_team         batsman        bowler  runs  wickets  overs  \\\n",
       "0        Ireland  ME Trescothick   DT Johnston     0        0    0.1   \n",
       "1        Ireland  ME Trescothick   DT Johnston     0        0    0.2   \n",
       "2        Ireland  ME Trescothick   DT Johnston     4        0    0.3   \n",
       "3        Ireland  ME Trescothick   DT Johnston     6        0    0.4   \n",
       "4        Ireland  ME Trescothick   DT Johnston     6        0    0.5   \n",
       "...          ...             ...           ...   ...      ...    ...   \n",
       "83302  Hong Kong        V Sehwag   Najeeb Amar   127        1   14.3   \n",
       "83303  Hong Kong       RG Sharma   Najeeb Amar   127        1   14.4   \n",
       "83304  Hong Kong       RG Sharma   Najeeb Amar   127        1   14.5   \n",
       "83305  Hong Kong       RG Sharma   Najeeb Amar   127        1   14.6   \n",
       "83306  Hong Kong       G Gambhir  Nadeem Ahmed   127        1   15.1   \n",
       "\n",
       "       runs_last_5  wickets_last_5  striker  non-striker  total  \n",
       "0                0               0        0            0    301  \n",
       "1                0               0        0            0    301  \n",
       "2                4               0        0            0    301  \n",
       "3                6               0        0            0    301  \n",
       "4                6               0        0            0    301  \n",
       "...            ...             ...      ...          ...    ...  \n",
       "83302           36               1       78           45    374  \n",
       "83303           32               1       45            0    374  \n",
       "83304           32               1       45            0    374  \n",
       "83305           32               1       45            0    374  \n",
       "83306           31               1       45            0    374  \n",
       "\n",
       "[83307 rows x 15 columns]"
      ]
     },
     "execution_count": 4,
     "metadata": {},
     "output_type": "execute_result"
    }
   ],
   "source": [
    "dataset\n"
   ]
  },
  {
   "cell_type": "markdown",
   "metadata": {},
   "source": [
    "### Train-Test Split and Scaling Features"
   ]
  },
  {
   "cell_type": "code",
   "execution_count": 5,
   "metadata": {},
   "outputs": [],
   "source": [
    "from sklearn.model_selection import train_test_split\n",
    "X_train, X_test, y_train, y_test = train_test_split(X, y, test_size = 0.25, random_state = 0)"
   ]
  },
  {
   "cell_type": "code",
   "execution_count": 6,
   "metadata": {},
   "outputs": [],
   "source": [
    "from sklearn.preprocessing import StandardScaler\n",
    "sc = StandardScaler()\n",
    "X_train = sc.fit_transform(X_train)\n",
    "X_test = sc.transform(X_test)"
   ]
  },
  {
   "cell_type": "code",
   "execution_count": 7,
   "metadata": {},
   "outputs": [
    {
     "data": {
      "text/plain": [
       "0.5584130702624097"
      ]
     },
     "execution_count": 7,
     "metadata": {},
     "output_type": "execute_result"
    }
   ],
   "source": [
    "from sklearn.linear_model import LinearRegression #Training model using LinearRegression\n",
    "lin = LinearRegression()\n",
    "lin.fit(X_train,y_train)\n",
    "lin.score(X_test,y_test)\n"
   ]
  },
  {
   "cell_type": "code",
   "execution_count": 8,
   "metadata": {},
   "outputs": [],
   "source": [
    "def custom_accuracy(y_test,y_pred,thresold):\n",
    "    right = 0\n",
    "    l = len(y_pred)\n",
    "    for i in range(0,l):\n",
    "        if(abs(y_pred[i]-y_test[i]) <= thresold):\n",
    "            right += 1\n",
    "    return ((right/l)*100)"
   ]
  },
  {
   "cell_type": "code",
   "execution_count": 9,
   "metadata": {},
   "outputs": [
    {
     "name": "stdout",
     "output_type": "stream",
     "text": [
      "R-squared value: 55.84130702624097\n",
      "Custom accuracy: 44.274259374849954\n"
     ]
    }
   ],
   "source": [
    "y_pred = lin.predict(X_test)\n",
    "score = lin.score(X_test,y_test)*100\n",
    "print(\"R-squared value:\" , score)\n",
    "print(\"Custom accuracy:\" , custom_accuracy(y_test,y_pred,20))"
   ]
  },
  {
   "cell_type": "code",
   "execution_count": 10,
   "metadata": {},
   "outputs": [
    {
     "data": {
      "text/plain": [
       "RandomForestRegressor(bootstrap=True, ccp_alpha=0.0, criterion='mse',\n",
       "                      max_depth=None, max_features=None, max_leaf_nodes=None,\n",
       "                      max_samples=None, min_impurity_decrease=0.0,\n",
       "                      min_impurity_split=None, min_samples_leaf=1,\n",
       "                      min_samples_split=2, min_weight_fraction_leaf=0.0,\n",
       "                      n_estimators=100, n_jobs=None, oob_score=False,\n",
       "                      random_state=None, verbose=0, warm_start=False)"
      ]
     },
     "execution_count": 10,
     "metadata": {},
     "output_type": "execute_result"
    }
   ],
   "source": [
    "from sklearn.ensemble import RandomForestRegressor #Training Model using RandomForestRegressor\n",
    "Rf = RandomForestRegressor(n_estimators=100,max_features=None)\n",
    "Rf.fit(X_train,y_train)"
   ]
  },
  {
   "cell_type": "markdown",
   "metadata": {},
   "source": [
    "### Evaluation"
   ]
  },
  {
   "cell_type": "code",
   "execution_count": 11,
   "metadata": {},
   "outputs": [
    {
     "name": "stdout",
     "output_type": "stream",
     "text": [
      "R-squared value: 86.55115565328715\n",
      "Custom accuracy: 85.1682911605128\n"
     ]
    }
   ],
   "source": [
    "y_pred = Rf.predict(X_test)\n",
    "score = Rf.score(X_test,y_test)*100\n",
    "print(\"R-squared value:\" , score)\n",
    "print(\"Custom accuracy:\" , custom_accuracy(y_test,y_pred,20))"
   ]
  },
  {
   "cell_type": "markdown",
   "metadata": {},
   "source": [
    "### Prediction on custom input (Current Runs=127, Wickets=1, Overs=15, Striker=78, Non-striker=45)"
   ]
  },
  {
   "cell_type": "code",
   "execution_count": 40,
   "metadata": {},
   "outputs": [
    {
     "name": "stdout",
     "output_type": "stream",
     "text": [
      "Prediction score: [372.26]\n"
     ]
    }
   ],
   "source": [
    "import numpy as np\n",
    "new_prediction = Rf.predict(sc.transform(np.array([[127,1,15,78,45]])))\n",
    "print(\"Prediction score:\" , new_prediction)\n",
    "\n"
   ]
  },
  {
   "cell_type": "code",
   "execution_count": null,
   "metadata": {},
   "outputs": [],
   "source": []
  },
  {
   "cell_type": "code",
   "execution_count": null,
   "metadata": {},
   "outputs": [],
   "source": []
  }
 ],
 "metadata": {
  "kernelspec": {
   "display_name": "Python 3",
   "language": "python",
   "name": "python3"
  },
  "language_info": {
   "codemirror_mode": {
    "name": "ipython",
    "version": 3
   },
   "file_extension": ".py",
   "mimetype": "text/x-python",
   "name": "python",
   "nbconvert_exporter": "python",
   "pygments_lexer": "ipython3",
   "version": "3.7.6"
  }
 },
 "nbformat": 4,
 "nbformat_minor": 4
}
